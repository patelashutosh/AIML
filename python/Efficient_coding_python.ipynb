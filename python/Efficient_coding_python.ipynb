{
  "nbformat": 4,
  "nbformat_minor": 0,
  "metadata": {
    "colab": {
      "name": "Efficient_coding_python.ipynb",
      "provenance": [],
      "collapsed_sections": []
    },
    "kernelspec": {
      "name": "python3",
      "display_name": "Python 3"
    },
    "language_info": {
      "name": "python"
    }
  },
  "cells": [
    {
      "cell_type": "code",
      "metadata": {
        "colab": {
          "base_uri": "https://localhost:8080/"
        },
        "id": "1iaebIki7Tur",
        "outputId": "a9118d65-2386-44e8-bbd3-39f6433f4275"
      },
      "source": [
        "!pip install sklearn"
      ],
      "execution_count": null,
      "outputs": [
        {
          "output_type": "stream",
          "text": [
            "Requirement already satisfied: sklearn in /usr/local/lib/python3.7/dist-packages (0.0)\n",
            "Requirement already satisfied: scikit-learn in /usr/local/lib/python3.7/dist-packages (from sklearn) (0.22.2.post1)\n",
            "Requirement already satisfied: scipy>=0.17.0 in /usr/local/lib/python3.7/dist-packages (from scikit-learn->sklearn) (1.4.1)\n",
            "Requirement already satisfied: joblib>=0.11 in /usr/local/lib/python3.7/dist-packages (from scikit-learn->sklearn) (1.0.1)\n",
            "Requirement already satisfied: numpy>=1.11.0 in /usr/local/lib/python3.7/dist-packages (from scikit-learn->sklearn) (1.19.5)\n"
          ],
          "name": "stdout"
        }
      ]
    },
    {
      "cell_type": "code",
      "metadata": {
        "id": "iomt1utPVawM"
      },
      "source": [
        "from tqdm import tqdm\n",
        "import json\n",
        "import os\n",
        "\n",
        "import pandas as pd\n",
        "import numpy as np\n",
        "\n",
        "from typing import List\n",
        "from sklearn.model_selection import train_test_split"
      ],
      "execution_count": null,
      "outputs": []
    },
    {
      "cell_type": "code",
      "metadata": {
        "id": "MM0tLuHMn9iN"
      },
      "source": [
        "def update_df(df: pd.DataFrame, classifier: str, accuracy: float, split_size:float = 0.5, remarks: List[str] = []) -> pd.DataFrame:\n",
        "  new_row = {'Classifier':classifier, 'Accuracy':accuracy, 'split_size':split_size, 'Remarks': remarks}\n",
        "  df = df.append(new_row, ignore_index=True)\n",
        "  return df"
      ],
      "execution_count": null,
      "outputs": []
    },
    {
      "cell_type": "code",
      "metadata": {
        "colab": {
          "base_uri": "https://localhost:8080/",
          "height": 142
        },
        "id": "6mZl8PgDpi-y",
        "outputId": "2f2f1f63-12f8-4d9b-cf23-b7a68944e962"
      },
      "source": [
        "df = pd.DataFrame(columns= [\"Classifier\", \"Accuracy\", \"split_size\", \"Remarks\"])\n",
        "df = update_df(df, \"KNN\", 76, 0.1)\n",
        "df = update_df(df, \"SVM\", 99, remarks=[\"Check again\"])\n",
        "df = update_df(df, \"LR\", 65, 0.7, remarks=[\"param tuning\", \"overfitting\"])\n",
        "df"
      ],
      "execution_count": null,
      "outputs": [
        {
          "output_type": "execute_result",
          "data": {
            "text/html": [
              "<div>\n",
              "<style scoped>\n",
              "    .dataframe tbody tr th:only-of-type {\n",
              "        vertical-align: middle;\n",
              "    }\n",
              "\n",
              "    .dataframe tbody tr th {\n",
              "        vertical-align: top;\n",
              "    }\n",
              "\n",
              "    .dataframe thead th {\n",
              "        text-align: right;\n",
              "    }\n",
              "</style>\n",
              "<table border=\"1\" class=\"dataframe\">\n",
              "  <thead>\n",
              "    <tr style=\"text-align: right;\">\n",
              "      <th></th>\n",
              "      <th>Classifier</th>\n",
              "      <th>Accuracy</th>\n",
              "      <th>split_size</th>\n",
              "      <th>Remarks</th>\n",
              "    </tr>\n",
              "  </thead>\n",
              "  <tbody>\n",
              "    <tr>\n",
              "      <th>0</th>\n",
              "      <td>KNN</td>\n",
              "      <td>76</td>\n",
              "      <td>0.1</td>\n",
              "      <td>[]</td>\n",
              "    </tr>\n",
              "    <tr>\n",
              "      <th>1</th>\n",
              "      <td>SVM</td>\n",
              "      <td>99</td>\n",
              "      <td>0.5</td>\n",
              "      <td>[Check again]</td>\n",
              "    </tr>\n",
              "    <tr>\n",
              "      <th>2</th>\n",
              "      <td>LR</td>\n",
              "      <td>65</td>\n",
              "      <td>0.7</td>\n",
              "      <td>[param tuning, overfitting]</td>\n",
              "    </tr>\n",
              "  </tbody>\n",
              "</table>\n",
              "</div>"
            ],
            "text/plain": [
              "  Classifier Accuracy  split_size                      Remarks\n",
              "0        KNN       76         0.1                           []\n",
              "1        SVM       99         0.5                [Check again]\n",
              "2         LR       65         0.7  [param tuning, overfitting]"
            ]
          },
          "metadata": {
            "tags": []
          },
          "execution_count": 143
        }
      ]
    },
    {
      "cell_type": "code",
      "metadata": {
        "id": "I205hsjQs8ED"
      },
      "source": [
        "def count_files_in_dir(project_root_dir, *fpaths: str):\n",
        "  for path in fpaths:\n",
        "    rel_path = os.path.join(project_root_dir, path)\n",
        "    print(path, \":\", len(os.listdir(rel_path)))"
      ],
      "execution_count": null,
      "outputs": []
    },
    {
      "cell_type": "code",
      "metadata": {
        "colab": {
          "base_uri": "https://localhost:8080/"
        },
        "id": "kg7_GZqcylJu",
        "outputId": "526aa868-9be4-4565-ce32-e56c24d2cafd"
      },
      "source": [
        "count_files_in_dir(\"../usr\", \"games\", \"include\", \"local\", \"bin\")"
      ],
      "execution_count": null,
      "outputs": [
        {
          "output_type": "stream",
          "text": [
            "games : 0\n",
            "include : 339\n",
            "local : 18\n",
            "bin : 968\n"
          ],
          "name": "stdout"
        }
      ]
    },
    {
      "cell_type": "code",
      "metadata": {
        "id": "1LBgZSp-0_HM"
      },
      "source": [
        "def custom_train_test_split(classifier: str, y: List, *X: List, stratify, **split_args):\n",
        "  print(\"Classifier used: \", classifier)\n",
        "  print(\"Keys:\", split_args.keys())\n",
        "  print(\"Values: \", split_args.values())\n",
        "  print(X)\n",
        "  print(y)\n",
        "  print(\"Length of passed keyword arguments: \", len(split_args))\n",
        "\n",
        "  # *train_all, labels_all, size, seed = split_args.values()\n",
        "\n",
        "  trainx, testx, *synthetic, trainy, testy = train_test_split(*X,\n",
        "                                                    y,\n",
        "                                                    stratify = stratify,\n",
        "                                                    **split_args)\n",
        "  \n",
        "  print(\"trainx: \", trainx, \"trainy: \",trainy, '\\n',  \"testx: \", testx, \"testy:\", testy)\n",
        "  print(\"synthetic train and test: \", *synthetic)"
      ],
      "execution_count": null,
      "outputs": []
    },
    {
      "cell_type": "code",
      "metadata": {
        "colab": {
          "base_uri": "https://localhost:8080/"
        },
        "id": "eP-3R-hG7bui",
        "outputId": "ec91a629-5228-4a59-a0cb-06a3951f6970"
      },
      "source": [
        "ims = [1,2,3,4,5,6]\n",
        "labels = ['a', 'b', 'c'] * 2\n",
        "synthetic_ims = [10, 20, 30, 40, 50, 60]\n",
        "split_size = 0.6\n",
        "seed = 50\n",
        "custom_train_test_split(\"SVM\", labels, ims, synthetic_ims, train_size = split_size, random_state = seed, stratify = labels)"
      ],
      "execution_count": null,
      "outputs": [
        {
          "output_type": "stream",
          "text": [
            "Classifier used:  SVM\n",
            "Keys: dict_keys(['train_size', 'random_state'])\n",
            "Values:  dict_values([0.6, 50])\n",
            "([1, 2, 3, 4, 5, 6], [10, 20, 30, 40, 50, 60])\n",
            "['a', 'b', 'c', 'a', 'b', 'c']\n",
            "Length of passed keyword arguments:  2\n",
            "trainx:  [4, 3, 5] trainy:  ['a', 'c', 'b'] \n",
            " testx:  [2, 1, 6] testy: ['b', 'a', 'c']\n",
            "synthetic train and test:  [40, 30, 50] [20, 10, 60]\n"
          ],
          "name": "stdout"
        }
      ]
    },
    {
      "cell_type": "code",
      "metadata": {
        "id": "tHnxMKf0CSF3"
      },
      "source": [
        "# Example of kwargs\n",
        "\n",
        "def print_results(**results):\n",
        "  for key, val in results.items():\n",
        "    print(key, val)\n"
      ],
      "execution_count": null,
      "outputs": []
    },
    {
      "cell_type": "code",
      "metadata": {
        "colab": {
          "base_uri": "https://localhost:8080/"
        },
        "id": "J3DNQjK480JG",
        "outputId": "eeb6fd48-34b6-451d-b76f-a5adc91b4588"
      },
      "source": [
        "print_results(clf = \"SVM\", score = 98.2, time_taken = 1.28, split_size = 0.8, tuning = False)"
      ],
      "execution_count": null,
      "outputs": [
        {
          "output_type": "stream",
          "text": [
            "clf SVM\n",
            "score 98.2\n",
            "time_taken 1.28\n",
            "split_size 0.8\n",
            "tuning False\n"
          ],
          "name": "stdout"
        }
      ]
    },
    {
      "cell_type": "code",
      "metadata": {
        "id": "bJ7qENhA9Iy6"
      },
      "source": [
        "dict1 = {'a':2 , 'b': 20}\n",
        "dict2 = {'c':15 , 'd': 40}\n",
        "merged_dict = {**dict1, **dict2}"
      ],
      "execution_count": null,
      "outputs": []
    },
    {
      "cell_type": "code",
      "metadata": {
        "id": "0p6mUCTX9yEN",
        "colab": {
          "base_uri": "https://localhost:8080/"
        },
        "outputId": "20559224-d774-4b39-bc6e-e80ddfe389b0"
      },
      "source": [
        "merged_dict"
      ],
      "execution_count": null,
      "outputs": [
        {
          "output_type": "execute_result",
          "data": {
            "text/plain": [
              "{'a': 2, 'b': 20, 'c': 15, 'd': 40}"
            ]
          },
          "metadata": {
            "tags": []
          },
          "execution_count": 15
        }
      ]
    },
    {
      "cell_type": "code",
      "metadata": {
        "id": "j_c8pa2V92QW"
      },
      "source": [
        ""
      ],
      "execution_count": null,
      "outputs": []
    }
  ]
}